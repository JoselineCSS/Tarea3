{
 "cells": [
  {
   "cell_type": "code",
   "execution_count": 44,
   "metadata": {},
   "outputs": [
    {
     "name": "stdout",
     "output_type": "stream",
     "text": [
      "149.48404853760005\n",
      "-0.44459779523839593\n",
      "149.54281\n",
      "0.058761462399957054\n"
     ]
    }
   ],
   "source": [
    "import pandas as pd\n",
    "import numpy as np\n",
    "import matplotlib.pyplot as plt\n",
    "import scipy.stats\n",
    "import scipy.optimize\n",
    "\n",
    "datos = pd.read_csv(\"xy.csv\")\n",
    "xProb = [n for n in datos.sum(axis=1, numeric_only=True)]\n",
    "yProb = [n for n in datos.sum(axis=0, numeric_only=True)]\n",
    "xDom = list(range(5, 16))\n",
    "yDom = list(range(5, 26))\n",
    "\n",
    "expectedX = 0\n",
    "expectedY = 0\n",
    "for i in range (0,len(xProb)):\n",
    "    expectedX += xDom[i]*xProb[i]\n",
    "\n",
    "for i in range (0, len(yProb)):\n",
    "    expectedY += yDom[i]*yProb[i]\n",
    "\n",
    "print(expectedX*expectedY)\n",
    "\n",
    "xProbSeries = pd.Series(xProb)\n",
    "yProbSeries = pd.Series(yProb)\n",
    "datos = pd.read_csv(\"xyp.csv\")\n",
    "XporYporP = datos.x * datos.y * datos.p\n",
    "Rxy = XporYporP.sum()\n",
    "\n",
    "print(Rxy)\n",
    "\n",
    "Cxy = Rxy - expectedX*expectedY\n",
    "print(Cxy)"
   ]
  }
 ],
 "metadata": {
  "kernelspec": {
   "display_name": "Python 3.8.1 64-bit",
   "language": "python",
   "name": "python38164bit74df0fc2a49e4e3b8a5745721de6fd4b"
  },
  "language_info": {
   "codemirror_mode": {
    "name": "ipython",
    "version": 3
   },
   "file_extension": ".py",
   "mimetype": "text/x-python",
   "name": "python",
   "nbconvert_exporter": "python",
   "pygments_lexer": "ipython3",
   "version": "3.8.3"
  }
 },
 "nbformat": 4,
 "nbformat_minor": 4
}
