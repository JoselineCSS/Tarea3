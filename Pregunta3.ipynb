{
 "cells": [
  {
   "cell_type": "code",
   "execution_count": 7,
   "metadata": {},
   "outputs": [
    {
     "name": "stdout",
     "output_type": "stream",
     "text": [
      "E[X]E[Y]:  149.48404853760005\n",
      "La correlación E[XY] entre X y Y es:  149.54281\n",
      "La covarianza entre X y Y es:  0.058761462399957054\n",
      "El coeficiente de Pearson es aproximadamente igual a:  0.002952985697771599\n"
     ]
    }
   ],
   "source": [
    "import pandas as pd\n",
    "import numpy as np\n",
    "\n",
    "datos = pd.read_csv(\"xy.csv\")\n",
    "xProb = [n for n in datos.sum(axis=1, numeric_only=True)]\n",
    "yProb = [n for n in datos.sum(axis=0, numeric_only=True)]\n",
    "xDom = list(range(5, 16))\n",
    "yDom = list(range(5, 26))\n",
    "\n",
    "expectedX = 0\n",
    "expectedY = 0\n",
    "xVals = []\n",
    "yVals = []\n",
    "for i in range (0,len(xProb)):\n",
    "    expectedX += xDom[i]*xProb[i]\n",
    "\n",
    "for i in range (0, len(yProb)):\n",
    "    expectedY += yDom[i]*yProb[i]\n",
    "\n",
    "print(\"E[X]E[Y]: \", expectedX*expectedY)\n",
    "\n",
    "datos = pd.read_csv(\"xyp.csv\")\n",
    "XporYporP = datos.x * datos.y * datos.p\n",
    "Rxy = XporYporP.sum()\n",
    "\n",
    "print(\"La correlación E[XY] entre X y Y es: \", Rxy)\n",
    "\n",
    "Cxy = Rxy - expectedX*expectedY\n",
    "print(\"La covarianza entre X y Y es: \",Cxy)\n",
    "\n",
    "# En la pregunta 1 se obtuvo que sigma_x se aproxima a 3,3 y sigma_y a 6,03\n",
    "pearson = Cxy/(3.3*6.03)\n",
    "print(\"El coeficiente de Pearson es aproximadamente igual a: \", pearson)"
   ]
  }
 ],
 "metadata": {
  "kernelspec": {
   "display_name": "Python 3.8.1 64-bit",
   "language": "python",
   "name": "python38164bit74df0fc2a49e4e3b8a5745721de6fd4b"
  },
  "language_info": {
   "codemirror_mode": {
    "name": "ipython",
    "version": 3
   },
   "file_extension": ".py",
   "mimetype": "text/x-python",
   "name": "python",
   "nbconvert_exporter": "python",
   "pygments_lexer": "ipython3",
   "version": "3.8.3"
  }
 },
 "nbformat": 4,
 "nbformat_minor": 4
}
