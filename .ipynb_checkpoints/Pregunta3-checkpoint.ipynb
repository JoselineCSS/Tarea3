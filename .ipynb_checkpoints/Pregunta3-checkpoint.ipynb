{
 "cells": [
  {
   "cell_type": "code",
   "execution_count": 7,
   "metadata": {},
   "outputs": [
    {
     "name": "stdout",
     "output_type": "stream",
     "text": [
      "E[X]E[Y]:  149.48404853760005\n",
      "La correlación E[XY] entre X y Y es:  149.54281\n",
      "La covarianza entre X y Y es:  0.058761462399957054\n",
      "El coeficiente de Pearson es aproximadamente igual a:  0.002952985697771599\n"
     ]
    }
   ],
   "source": [
    "import pandas as pd\n",
    "import numpy as np\n",
    "\n",
    "# Obtención de las probabilidades marginales de X y Y, como se hizo en la asignación 1 en Pregunta1.ipynb\n",
    "datos = pd.read_csv(\"xy.csv\")\n",
    "xProb = [n for n in datos.sum(axis=1, numeric_only=True)]\n",
    "yProb = [n for n in datos.sum(axis=0, numeric_only=True)]\n",
    "xDom = list(range(5, 16))\n",
    "yDom = list(range(5, 26))\n",
    "\n",
    "# Valores inicializados de los valores esperados de X y Y (E[X] y E[Y])\n",
    "expectedX = 0\n",
    "expectedY = 0\n",
    "\n",
    "# Esta es la fórmula para hallar el valor esperado de X. Se toma la sumatoria de todos los valores de X\n",
    "# con su respectiva probabilidad\n",
    "for i in range (0,len(xProb)):\n",
    "    expectedX += xDom[i]*xProb[i]\n",
    "\n",
    "# Esta es la fórmula para hallar el valor esperado de Y. Se toma la sumatoria de todos los valores de Y\n",
    "# con su respectiva probabilidad\n",
    "for i in range (0, len(yProb)):\n",
    "    expectedY += yDom[i]*yProb[i]\n",
    "\n",
    "# Se imprime el valor del producto de los valores esperados, que debería ser aproximado a E[XY] ya que\n",
    "# son variables independientes\n",
    "print(\"E[X]E[Y]: \", expectedX*expectedY)\n",
    "\n",
    "# Se lee el archivo xyp.csv a un DataFrame para hallar E[XY]\n",
    "datos = pd.read_csv(\"xyp.csv\")\n",
    "# Los DataFrames de Pandas permiten la multiplicación de columnas. Este es el \"sumando\" de la sumatoria\n",
    "# que define el valor esperado: x*y*P(x,y)\n",
    "XporYporP = datos.x * datos.y * datos.p\n",
    "# Se suman todos los sumandos y se obtiene E[XY] = Rxy\n",
    "Rxy = XporYporP.sum()\n",
    "\n",
    "print(\"La correlación E[XY] entre X y Y es: \", Rxy)\n",
    "\n",
    "# Se utiliza la fórmula vista en la presentación, con Cxy = Rxy - E[X]*E[Y]\n",
    "Cxy = Rxy - expectedX*expectedY\n",
    "print(\"La covarianza entre X y Y es: \",Cxy)\n",
    "\n",
    "# Se utiliza la fórmula rho = Cxy/(sigma_x * sigma_y) de la presentación. Se aproximan los sigmas\n",
    "# experimentales con los teóricos, que en este caso no produce tanto cambio ya que Cxy inicialmente ya\n",
    "# es pequeño\n",
    "# En la pregunta 1 se obtuvo que sigma_x se aproxima a 3,3 y sigma_y a 6,03\n",
    "pearson = Cxy/(3.3*6.03)\n",
    "print(\"El coeficiente de Pearson es aproximadamente igual a: \", pearson)"
   ]
  }
 ],
 "metadata": {
  "kernelspec": {
   "display_name": "Python 3.8.1 64-bit",
   "language": "python",
   "name": "python38164bit74df0fc2a49e4e3b8a5745721de6fd4b"
  },
  "language_info": {
   "codemirror_mode": {
    "name": "ipython",
    "version": 3
   },
   "file_extension": ".py",
   "mimetype": "text/x-python",
   "name": "python",
   "nbconvert_exporter": "python",
   "pygments_lexer": "ipython3",
   "version": "3.8.3"
  }
 },
 "nbformat": 4,
 "nbformat_minor": 4
}
